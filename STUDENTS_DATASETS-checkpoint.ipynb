{
 "cells": [
  {
   "cell_type": "code",
   "execution_count": 1,
   "id": "7cc789da",
   "metadata": {},
   "outputs": [],
   "source": [
    "import pandas as pd"
   ]
  },
  {
   "cell_type": "code",
   "execution_count": 2,
   "id": "beb8824c",
   "metadata": {},
   "outputs": [],
   "source": [
    "#it reading a datset to specify that the datasetdoes not have a header row and if donot given header=none the dataset treated the frist row is columns name\n",
    "df_1=pd.read_csv(\"C:/Users/admin/Downloads/stud_1.csv\",header=None)"
   ]
  },
  {
   "cell_type": "code",
   "execution_count": 3,
   "id": "b0c751aa",
   "metadata": {},
   "outputs": [],
   "source": [
    "df_1.columns=[\"std_name\",\"std_rollno\"]"
   ]
  },
  {
   "cell_type": "code",
   "execution_count": 4,
   "id": "daee2185",
   "metadata": {},
   "outputs": [
    {
     "data": {
      "text/html": [
       "<div>\n",
       "<style scoped>\n",
       "    .dataframe tbody tr th:only-of-type {\n",
       "        vertical-align: middle;\n",
       "    }\n",
       "\n",
       "    .dataframe tbody tr th {\n",
       "        vertical-align: top;\n",
       "    }\n",
       "\n",
       "    .dataframe thead th {\n",
       "        text-align: right;\n",
       "    }\n",
       "</style>\n",
       "<table border=\"1\" class=\"dataframe\">\n",
       "  <thead>\n",
       "    <tr style=\"text-align: right;\">\n",
       "      <th></th>\n",
       "      <th>std_name</th>\n",
       "      <th>std_rollno</th>\n",
       "    </tr>\n",
       "  </thead>\n",
       "  <tbody>\n",
       "    <tr>\n",
       "      <th>0</th>\n",
       "      <td>vineet</td>\n",
       "      <td>1</td>\n",
       "    </tr>\n",
       "    <tr>\n",
       "      <th>1</th>\n",
       "      <td>hisham</td>\n",
       "      <td>2</td>\n",
       "    </tr>\n",
       "    <tr>\n",
       "      <th>2</th>\n",
       "      <td>raj</td>\n",
       "      <td>3</td>\n",
       "    </tr>\n",
       "    <tr>\n",
       "      <th>3</th>\n",
       "      <td>ajeet</td>\n",
       "      <td>4</td>\n",
       "    </tr>\n",
       "    <tr>\n",
       "      <th>4</th>\n",
       "      <td>sujit</td>\n",
       "      <td>5</td>\n",
       "    </tr>\n",
       "    <tr>\n",
       "      <th>5</th>\n",
       "      <td>ramesh</td>\n",
       "      <td>6</td>\n",
       "    </tr>\n",
       "    <tr>\n",
       "      <th>6</th>\n",
       "      <td>priya</td>\n",
       "      <td>7</td>\n",
       "    </tr>\n",
       "    <tr>\n",
       "      <th>7</th>\n",
       "      <td>priyanka</td>\n",
       "      <td>8</td>\n",
       "    </tr>\n",
       "    <tr>\n",
       "      <th>8</th>\n",
       "      <td>suresh</td>\n",
       "      <td>9</td>\n",
       "    </tr>\n",
       "    <tr>\n",
       "      <th>9</th>\n",
       "      <td>ritesh</td>\n",
       "      <td>10</td>\n",
       "    </tr>\n",
       "    <tr>\n",
       "      <th>10</th>\n",
       "      <td>hitesh</td>\n",
       "      <td>11</td>\n",
       "    </tr>\n",
       "    <tr>\n",
       "      <th>11</th>\n",
       "      <td>jatin</td>\n",
       "      <td>12</td>\n",
       "    </tr>\n",
       "    <tr>\n",
       "      <th>12</th>\n",
       "      <td>chitesh</td>\n",
       "      <td>13</td>\n",
       "    </tr>\n",
       "    <tr>\n",
       "      <th>13</th>\n",
       "      <td>suman</td>\n",
       "      <td>14</td>\n",
       "    </tr>\n",
       "    <tr>\n",
       "      <th>14</th>\n",
       "      <td>raman</td>\n",
       "      <td>15</td>\n",
       "    </tr>\n",
       "    <tr>\n",
       "      <th>15</th>\n",
       "      <td>aman</td>\n",
       "      <td>16</td>\n",
       "    </tr>\n",
       "    <tr>\n",
       "      <th>16</th>\n",
       "      <td>ravi</td>\n",
       "      <td>17</td>\n",
       "    </tr>\n",
       "    <tr>\n",
       "      <th>17</th>\n",
       "      <td>shravi</td>\n",
       "      <td>18</td>\n",
       "    </tr>\n",
       "    <tr>\n",
       "      <th>18</th>\n",
       "      <td>chavvi</td>\n",
       "      <td>19</td>\n",
       "    </tr>\n",
       "    <tr>\n",
       "      <th>19</th>\n",
       "      <td>himanshu</td>\n",
       "      <td>20</td>\n",
       "    </tr>\n",
       "  </tbody>\n",
       "</table>\n",
       "</div>"
      ],
      "text/plain": [
       "    std_name  std_rollno\n",
       "0     vineet           1\n",
       "1     hisham           2\n",
       "2        raj           3\n",
       "3      ajeet           4\n",
       "4     sujit            5\n",
       "5     ramesh           6\n",
       "6      priya           7\n",
       "7   priyanka           8\n",
       "8     suresh           9\n",
       "9     ritesh          10\n",
       "10    hitesh          11\n",
       "11     jatin          12\n",
       "12   chitesh          13\n",
       "13     suman          14\n",
       "14     raman          15\n",
       "15      aman          16\n",
       "16      ravi          17\n",
       "17    shravi          18\n",
       "18    chavvi          19\n",
       "19  himanshu          20"
      ]
     },
     "execution_count": 4,
     "metadata": {},
     "output_type": "execute_result"
    }
   ],
   "source": [
    "df_1"
   ]
  },
  {
   "cell_type": "code",
   "execution_count": 5,
   "id": "c2e3318e",
   "metadata": {},
   "outputs": [],
   "source": [
    "df_2=pd.read_csv(\"C:/Users/admin/Downloads/result.csv\",header=None)"
   ]
  },
  {
   "cell_type": "code",
   "execution_count": 6,
   "id": "ca4e939d",
   "metadata": {},
   "outputs": [],
   "source": [
    "df_2.columns=[\"std_rollno\",\"Results\"]"
   ]
  },
  {
   "cell_type": "code",
   "execution_count": 7,
   "id": "ab31def4",
   "metadata": {},
   "outputs": [
    {
     "data": {
      "text/html": [
       "<div>\n",
       "<style scoped>\n",
       "    .dataframe tbody tr th:only-of-type {\n",
       "        vertical-align: middle;\n",
       "    }\n",
       "\n",
       "    .dataframe tbody tr th {\n",
       "        vertical-align: top;\n",
       "    }\n",
       "\n",
       "    .dataframe thead th {\n",
       "        text-align: right;\n",
       "    }\n",
       "</style>\n",
       "<table border=\"1\" class=\"dataframe\">\n",
       "  <thead>\n",
       "    <tr style=\"text-align: right;\">\n",
       "      <th></th>\n",
       "      <th>std_rollno</th>\n",
       "      <th>Results</th>\n",
       "    </tr>\n",
       "  </thead>\n",
       "  <tbody>\n",
       "    <tr>\n",
       "      <th>0</th>\n",
       "      <td>1</td>\n",
       "      <td>fail</td>\n",
       "    </tr>\n",
       "    <tr>\n",
       "      <th>1</th>\n",
       "      <td>2</td>\n",
       "      <td>fail</td>\n",
       "    </tr>\n",
       "    <tr>\n",
       "      <th>2</th>\n",
       "      <td>3</td>\n",
       "      <td>pass</td>\n",
       "    </tr>\n",
       "    <tr>\n",
       "      <th>3</th>\n",
       "      <td>4</td>\n",
       "      <td>pass</td>\n",
       "    </tr>\n",
       "    <tr>\n",
       "      <th>4</th>\n",
       "      <td>5</td>\n",
       "      <td>fail</td>\n",
       "    </tr>\n",
       "    <tr>\n",
       "      <th>5</th>\n",
       "      <td>6</td>\n",
       "      <td>pass</td>\n",
       "    </tr>\n",
       "    <tr>\n",
       "      <th>6</th>\n",
       "      <td>7</td>\n",
       "      <td>fail</td>\n",
       "    </tr>\n",
       "    <tr>\n",
       "      <th>7</th>\n",
       "      <td>8</td>\n",
       "      <td>pass</td>\n",
       "    </tr>\n",
       "    <tr>\n",
       "      <th>8</th>\n",
       "      <td>9</td>\n",
       "      <td>pass</td>\n",
       "    </tr>\n",
       "    <tr>\n",
       "      <th>9</th>\n",
       "      <td>10</td>\n",
       "      <td>pass</td>\n",
       "    </tr>\n",
       "    <tr>\n",
       "      <th>10</th>\n",
       "      <td>11</td>\n",
       "      <td>pass</td>\n",
       "    </tr>\n",
       "    <tr>\n",
       "      <th>11</th>\n",
       "      <td>12</td>\n",
       "      <td>fail</td>\n",
       "    </tr>\n",
       "    <tr>\n",
       "      <th>12</th>\n",
       "      <td>13</td>\n",
       "      <td>fail</td>\n",
       "    </tr>\n",
       "    <tr>\n",
       "      <th>13</th>\n",
       "      <td>14</td>\n",
       "      <td>fail</td>\n",
       "    </tr>\n",
       "    <tr>\n",
       "      <th>14</th>\n",
       "      <td>15</td>\n",
       "      <td>pass</td>\n",
       "    </tr>\n",
       "    <tr>\n",
       "      <th>15</th>\n",
       "      <td>16</td>\n",
       "      <td>pass</td>\n",
       "    </tr>\n",
       "    <tr>\n",
       "      <th>16</th>\n",
       "      <td>17</td>\n",
       "      <td>pass</td>\n",
       "    </tr>\n",
       "    <tr>\n",
       "      <th>17</th>\n",
       "      <td>18</td>\n",
       "      <td>pass</td>\n",
       "    </tr>\n",
       "    <tr>\n",
       "      <th>18</th>\n",
       "      <td>19</td>\n",
       "      <td>pass</td>\n",
       "    </tr>\n",
       "    <tr>\n",
       "      <th>19</th>\n",
       "      <td>20</td>\n",
       "      <td>fail</td>\n",
       "    </tr>\n",
       "  </tbody>\n",
       "</table>\n",
       "</div>"
      ],
      "text/plain": [
       "    std_rollno Results\n",
       "0            1    fail\n",
       "1            2    fail\n",
       "2            3    pass\n",
       "3            4    pass\n",
       "4            5    fail\n",
       "5            6    pass\n",
       "6            7    fail\n",
       "7            8    pass\n",
       "8            9    pass\n",
       "9           10    pass\n",
       "10          11    pass\n",
       "11          12    fail\n",
       "12          13    fail\n",
       "13          14    fail\n",
       "14          15    pass\n",
       "15          16    pass\n",
       "16          17    pass\n",
       "17          18    pass\n",
       "18          19    pass\n",
       "19          20    fail"
      ]
     },
     "execution_count": 7,
     "metadata": {},
     "output_type": "execute_result"
    }
   ],
   "source": [
    "df_2"
   ]
  },
  {
   "cell_type": "code",
   "execution_count": 8,
   "id": "4ee3f3dc",
   "metadata": {},
   "outputs": [],
   "source": [
    "merged_df=pd.merge(df_1,df_2,on ='std_rollno')"
   ]
  },
  {
   "cell_type": "code",
   "execution_count": 9,
   "id": "36cf59f2",
   "metadata": {},
   "outputs": [
    {
     "data": {
      "text/html": [
       "<div>\n",
       "<style scoped>\n",
       "    .dataframe tbody tr th:only-of-type {\n",
       "        vertical-align: middle;\n",
       "    }\n",
       "\n",
       "    .dataframe tbody tr th {\n",
       "        vertical-align: top;\n",
       "    }\n",
       "\n",
       "    .dataframe thead th {\n",
       "        text-align: right;\n",
       "    }\n",
       "</style>\n",
       "<table border=\"1\" class=\"dataframe\">\n",
       "  <thead>\n",
       "    <tr style=\"text-align: right;\">\n",
       "      <th></th>\n",
       "      <th>std_name</th>\n",
       "      <th>std_rollno</th>\n",
       "      <th>Results</th>\n",
       "    </tr>\n",
       "  </thead>\n",
       "  <tbody>\n",
       "    <tr>\n",
       "      <th>0</th>\n",
       "      <td>vineet</td>\n",
       "      <td>1</td>\n",
       "      <td>fail</td>\n",
       "    </tr>\n",
       "    <tr>\n",
       "      <th>1</th>\n",
       "      <td>hisham</td>\n",
       "      <td>2</td>\n",
       "      <td>fail</td>\n",
       "    </tr>\n",
       "    <tr>\n",
       "      <th>2</th>\n",
       "      <td>raj</td>\n",
       "      <td>3</td>\n",
       "      <td>pass</td>\n",
       "    </tr>\n",
       "    <tr>\n",
       "      <th>3</th>\n",
       "      <td>ajeet</td>\n",
       "      <td>4</td>\n",
       "      <td>pass</td>\n",
       "    </tr>\n",
       "    <tr>\n",
       "      <th>4</th>\n",
       "      <td>sujit</td>\n",
       "      <td>5</td>\n",
       "      <td>fail</td>\n",
       "    </tr>\n",
       "    <tr>\n",
       "      <th>5</th>\n",
       "      <td>ramesh</td>\n",
       "      <td>6</td>\n",
       "      <td>pass</td>\n",
       "    </tr>\n",
       "    <tr>\n",
       "      <th>6</th>\n",
       "      <td>priya</td>\n",
       "      <td>7</td>\n",
       "      <td>fail</td>\n",
       "    </tr>\n",
       "    <tr>\n",
       "      <th>7</th>\n",
       "      <td>priyanka</td>\n",
       "      <td>8</td>\n",
       "      <td>pass</td>\n",
       "    </tr>\n",
       "    <tr>\n",
       "      <th>8</th>\n",
       "      <td>suresh</td>\n",
       "      <td>9</td>\n",
       "      <td>pass</td>\n",
       "    </tr>\n",
       "    <tr>\n",
       "      <th>9</th>\n",
       "      <td>ritesh</td>\n",
       "      <td>10</td>\n",
       "      <td>pass</td>\n",
       "    </tr>\n",
       "    <tr>\n",
       "      <th>10</th>\n",
       "      <td>hitesh</td>\n",
       "      <td>11</td>\n",
       "      <td>pass</td>\n",
       "    </tr>\n",
       "    <tr>\n",
       "      <th>11</th>\n",
       "      <td>jatin</td>\n",
       "      <td>12</td>\n",
       "      <td>fail</td>\n",
       "    </tr>\n",
       "    <tr>\n",
       "      <th>12</th>\n",
       "      <td>chitesh</td>\n",
       "      <td>13</td>\n",
       "      <td>fail</td>\n",
       "    </tr>\n",
       "    <tr>\n",
       "      <th>13</th>\n",
       "      <td>suman</td>\n",
       "      <td>14</td>\n",
       "      <td>fail</td>\n",
       "    </tr>\n",
       "    <tr>\n",
       "      <th>14</th>\n",
       "      <td>raman</td>\n",
       "      <td>15</td>\n",
       "      <td>pass</td>\n",
       "    </tr>\n",
       "    <tr>\n",
       "      <th>15</th>\n",
       "      <td>aman</td>\n",
       "      <td>16</td>\n",
       "      <td>pass</td>\n",
       "    </tr>\n",
       "    <tr>\n",
       "      <th>16</th>\n",
       "      <td>ravi</td>\n",
       "      <td>17</td>\n",
       "      <td>pass</td>\n",
       "    </tr>\n",
       "    <tr>\n",
       "      <th>17</th>\n",
       "      <td>shravi</td>\n",
       "      <td>18</td>\n",
       "      <td>pass</td>\n",
       "    </tr>\n",
       "    <tr>\n",
       "      <th>18</th>\n",
       "      <td>chavvi</td>\n",
       "      <td>19</td>\n",
       "      <td>pass</td>\n",
       "    </tr>\n",
       "    <tr>\n",
       "      <th>19</th>\n",
       "      <td>himanshu</td>\n",
       "      <td>20</td>\n",
       "      <td>fail</td>\n",
       "    </tr>\n",
       "  </tbody>\n",
       "</table>\n",
       "</div>"
      ],
      "text/plain": [
       "    std_name  std_rollno Results\n",
       "0     vineet           1    fail\n",
       "1     hisham           2    fail\n",
       "2        raj           3    pass\n",
       "3      ajeet           4    pass\n",
       "4     sujit            5    fail\n",
       "5     ramesh           6    pass\n",
       "6      priya           7    fail\n",
       "7   priyanka           8    pass\n",
       "8     suresh           9    pass\n",
       "9     ritesh          10    pass\n",
       "10    hitesh          11    pass\n",
       "11     jatin          12    fail\n",
       "12   chitesh          13    fail\n",
       "13     suman          14    fail\n",
       "14     raman          15    pass\n",
       "15      aman          16    pass\n",
       "16      ravi          17    pass\n",
       "17    shravi          18    pass\n",
       "18    chavvi          19    pass\n",
       "19  himanshu          20    fail"
      ]
     },
     "execution_count": 9,
     "metadata": {},
     "output_type": "execute_result"
    }
   ],
   "source": [
    "merged_df"
   ]
  },
  {
   "cell_type": "code",
   "execution_count": 10,
   "id": "02c823a6",
   "metadata": {},
   "outputs": [],
   "source": [
    "merged_df.to_csv(\"C:/Users/admin/Desktop/K.ANUSHA/students_dataset.csv\")"
   ]
  },
  {
   "cell_type": "code",
   "execution_count": 10,
   "id": "50dc47c4",
   "metadata": {},
   "outputs": [],
   "source": [
    "#finding the pass student in exam\n",
    "pass_students=merged_df.loc[merged_df['Results']=='pass','std_name']"
   ]
  },
  {
   "cell_type": "code",
   "execution_count": 11,
   "id": "31e59f01",
   "metadata": {},
   "outputs": [
    {
     "data": {
      "text/plain": [
       "2          raj\n",
       "3        ajeet\n",
       "5       ramesh\n",
       "7     priyanka\n",
       "8       suresh\n",
       "9       ritesh\n",
       "10      hitesh\n",
       "14       raman\n",
       "15        aman\n",
       "16        ravi\n",
       "17      shravi\n",
       "18      chavvi\n",
       "Name: std_name, dtype: object"
      ]
     },
     "execution_count": 11,
     "metadata": {},
     "output_type": "execute_result"
    }
   ],
   "source": [
    "pass_students"
   ]
  },
  {
   "cell_type": "code",
   "execution_count": 12,
   "id": "8cafd984",
   "metadata": {},
   "outputs": [],
   "source": [
    "df=merged_df[merged_df['Results']=='pass'].count()"
   ]
  },
  {
   "cell_type": "code",
   "execution_count": 18,
   "id": "9b529ae9",
   "metadata": {},
   "outputs": [],
   "source": [
    "df2=merged_df[merged_df['Results']=='fail'].count()"
   ]
  },
  {
   "cell_type": "code",
   "execution_count": 79,
   "id": "d9b81265",
   "metadata": {},
   "outputs": [
    {
     "data": {
      "text/plain": [
       "std_name      12\n",
       "std_rollno    12\n",
       "Results       12\n",
       "dtype: int64"
      ]
     },
     "execution_count": 79,
     "metadata": {},
     "output_type": "execute_result"
    }
   ],
   "source": [
    "df"
   ]
  },
  {
   "cell_type": "code",
   "execution_count": 19,
   "id": "65dcbf71",
   "metadata": {},
   "outputs": [
    {
     "data": {
      "text/plain": [
       "std_name      8\n",
       "std_rollno    8\n",
       "Results       8\n",
       "dtype: int64"
      ]
     },
     "execution_count": 19,
     "metadata": {},
     "output_type": "execute_result"
    }
   ],
   "source": [
    "df2"
   ]
  },
  {
   "cell_type": "code",
   "execution_count": 80,
   "id": "81846306",
   "metadata": {},
   "outputs": [],
   "source": [
    "#value_counts()is used to count the occurrences of each unique value in column\n",
    "students_counts=merged_df['Results'].value_counts()"
   ]
  },
  {
   "cell_type": "code",
   "execution_count": 81,
   "id": "9b3714dc",
   "metadata": {},
   "outputs": [
    {
     "data": {
      "text/plain": [
       "pass    12\n",
       "fail     8\n",
       "Name: Results, dtype: int64"
      ]
     },
     "execution_count": 81,
     "metadata": {},
     "output_type": "execute_result"
    }
   ],
   "source": [
    "students_counts"
   ]
  },
  {
   "cell_type": "code",
   "execution_count": 96,
   "id": "06ff2243",
   "metadata": {},
   "outputs": [],
   "source": [
    "sorted_student_names=merged_df.sort_values('std_name')"
   ]
  },
  {
   "cell_type": "code",
   "execution_count": 94,
   "id": "3638892b",
   "metadata": {},
   "outputs": [
    {
     "data": {
      "text/plain": [
       "3        ajeet\n",
       "15        aman\n",
       "18      chavvi\n",
       "12     chitesh\n",
       "19    himanshu\n",
       "1       hisham\n",
       "10      hitesh\n",
       "11       jatin\n",
       "6        priya\n",
       "7     priyanka\n",
       "2          raj\n",
       "14       raman\n",
       "5       ramesh\n",
       "16        ravi\n",
       "9       ritesh\n",
       "17      shravi\n",
       "4       sujit \n",
       "13       suman\n",
       "8       suresh\n",
       "0       vineet\n",
       "Name: std_name, dtype: object"
      ]
     },
     "execution_count": 94,
     "metadata": {},
     "output_type": "execute_result"
    }
   ],
   "source": [
    "student_names"
   ]
  },
  {
   "cell_type": "code",
   "execution_count": null,
   "id": "5d45d839",
   "metadata": {},
   "outputs": [],
   "source": []
  }
 ],
 "metadata": {
  "kernelspec": {
   "display_name": "Python 3 (ipykernel)",
   "language": "python",
   "name": "python3"
  },
  "language_info": {
   "codemirror_mode": {
    "name": "ipython",
    "version": 3
   },
   "file_extension": ".py",
   "mimetype": "text/x-python",
   "name": "python",
   "nbconvert_exporter": "python",
   "pygments_lexer": "ipython3",
   "version": "3.11.3"
  }
 },
 "nbformat": 4,
 "nbformat_minor": 5
}
